{
 "cells": [
  {
   "attachments": {},
   "cell_type": "markdown",
   "metadata": {},
   "source": [
    "# Title\n",
    "\n",
    "My first blog was about biomedical research to using old technology and I was surprise why programmers or departments can’t build a basic automated tool that save time and less afford for scientist. Scientist can focus more their scientific research. I always think how can I use my skills to build something and my first tools was basic protein quantification, which everyone in biological/biomedical laboratories all around the world use daily. (link first blog) Basically scientist clone my git repository and calculate protein quantification but I’m not sure if non-coder person can use what I build. I decide to make an app from streamlit for them and they just upload their data and  click a button get result.\n",
    "\n",
    "Streamlit is the fastest to create highly interactive app for machine learning and data science. it doesnt require any knowledge of web develoment and it's easy to install and run it.\n",
    "\n",
    "` Set it up`\n",
    "- $ pip install streamlit\n",
    "\n",
    "` To run your app `\n",
    "\n",
    "- $ streamlit run app.py\n",
    "\n",
    "### How is app works:\n",
    "\n",
    "1- Upload your data as  CSV or XLSX\n",
    "<img src=\"uplaod.png\" alt=\"Drawing\" style=\"width: 600px;\"/>\n",
    " \n",
    " \n",
    "2- Select columns to calculate standard curve\n",
    "<img src=\"standard_curve.png\" alt=\"Drawing\" style=\"width: 600px;\"/>\n",
    "\n"
   ]
  },
  {
   "cell_type": "markdown",
   "metadata": {},
   "source": []
  }
 ],
 "metadata": {
  "kernelspec": {
   "display_name": "Python 3",
   "language": "python",
   "name": "python3"
  },
  "language_info": {
   "codemirror_mode": {
    "name": "ipython",
    "version": 3
   },
   "file_extension": ".py",
   "mimetype": "text/x-python",
   "name": "python",
   "nbconvert_exporter": "python",
   "pygments_lexer": "ipython3",
   "version": "3.7.6"
  },
  "toc": {
   "base_numbering": 1,
   "nav_menu": {},
   "number_sections": true,
   "sideBar": true,
   "skip_h1_title": false,
   "title_cell": "Table of Contents",
   "title_sidebar": "Contents",
   "toc_cell": false,
   "toc_position": {},
   "toc_section_display": true,
   "toc_window_display": false
  }
 },
 "nbformat": 4,
 "nbformat_minor": 4
}
